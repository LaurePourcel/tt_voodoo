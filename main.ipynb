{
 "cells": [
  {
   "cell_type": "markdown",
   "metadata": {},
   "source": [
    "import"
   ]
  },
  {
   "cell_type": "code",
   "execution_count": 32,
   "metadata": {},
   "outputs": [],
   "source": [
    "import pandas as pd\n",
    "import matplotlib.pyplot as plt\n",
    "import seaborn as sns\n",
    "import re"
   ]
  },
  {
   "cell_type": "markdown",
   "metadata": {},
   "source": [
    "The df"
   ]
  },
  {
   "cell_type": "code",
   "execution_count": 33,
   "metadata": {},
   "outputs": [],
   "source": [
    "df = pd.read_csv(filepath_or_buffer=r\"C:\\Users\\loulo\\OneDrive\\Bureau\\test_technique\\Voodoo_Case_Study_Game_Analyst.csv\",\n",
    "    parse_dates=['first_app_launch_date'],  # Parse the date column\n",
    ") \n",
    "\n",
    "raw_df = df.copy()"
   ]
  },
  {
   "cell_type": "markdown",
   "metadata": {},
   "source": [
    "# 1. EDA"
   ]
  },
  {
   "cell_type": "code",
   "execution_count": 34,
   "metadata": {},
   "outputs": [
    {
     "name": "stdout",
     "output_type": "stream",
     "text": [
      "the dataframe has 22 columns and 1117679 rows\n"
     ]
    }
   ],
   "source": [
    "df.drop_duplicates(inplace=True)\n",
    "print(f\"the dataframe has {len(df.columns)} columns and {len(df)} rows\")\n",
    "initial_len = len(df)"
   ]
  },
  {
   "cell_type": "code",
   "execution_count": 35,
   "metadata": {},
   "outputs": [
    {
     "data": {
      "text/html": [
       "<div>\n",
       "<style scoped>\n",
       "    .dataframe tbody tr th:only-of-type {\n",
       "        vertical-align: middle;\n",
       "    }\n",
       "\n",
       "    .dataframe tbody tr th {\n",
       "        vertical-align: top;\n",
       "    }\n",
       "\n",
       "    .dataframe thead th {\n",
       "        text-align: right;\n",
       "    }\n",
       "</style>\n",
       "<table border=\"1\" class=\"dataframe\">\n",
       "  <thead>\n",
       "    <tr style=\"text-align: right;\">\n",
       "      <th></th>\n",
       "      <th>country</th>\n",
       "      <th>first_app_launch_date</th>\n",
       "      <th>fs_revenue</th>\n",
       "      <th>fs_watched</th>\n",
       "      <th>game_count</th>\n",
       "      <th>iap_revenue</th>\n",
       "      <th>iap_transactions</th>\n",
       "      <th>install_store</th>\n",
       "      <th>manufacturer</th>\n",
       "      <th>model</th>\n",
       "      <th>...</th>\n",
       "      <th>ad_revenue</th>\n",
       "      <th>rv_revenue</th>\n",
       "      <th>rv_watched</th>\n",
       "      <th>session_id</th>\n",
       "      <th>session_length</th>\n",
       "      <th>session_number</th>\n",
       "      <th>user_id</th>\n",
       "      <th>assigned_at</th>\n",
       "      <th>ab_test_name</th>\n",
       "      <th>cohort_name</th>\n",
       "    </tr>\n",
       "  </thead>\n",
       "  <tbody>\n",
       "    <tr>\n",
       "      <th>0</th>\n",
       "      <td>GB</td>\n",
       "      <td>2024-10-14 20:03:02+00:00</td>\n",
       "      <td>0.103475</td>\n",
       "      <td>3</td>\n",
       "      <td>12</td>\n",
       "      <td>8.758466</td>\n",
       "      <td>1</td>\n",
       "      <td>NaN</td>\n",
       "      <td>Apple</td>\n",
       "      <td>iPhone14</td>\n",
       "      <td>...</td>\n",
       "      <td>0.154790</td>\n",
       "      <td>0.051315</td>\n",
       "      <td>1</td>\n",
       "      <td>c4ffdee2-af1b-4147-a12e-1be255e10f5a</td>\n",
       "      <td>771</td>\n",
       "      <td>102</td>\n",
       "      <td>0133f3a8-ff92-4c16-a029-2e2f4c624de0</td>\n",
       "      <td>2024-11-10 19:28:10.945000</td>\n",
       "      <td>v1.10 - Skipits - Existing Users</td>\n",
       "      <td>Control</td>\n",
       "    </tr>\n",
       "    <tr>\n",
       "      <th>1</th>\n",
       "      <td>US</td>\n",
       "      <td>2024-11-15 05:15:18+00:00</td>\n",
       "      <td>0.237131</td>\n",
       "      <td>9</td>\n",
       "      <td>63</td>\n",
       "      <td>7.990000</td>\n",
       "      <td>1</td>\n",
       "      <td>NaN</td>\n",
       "      <td>Apple</td>\n",
       "      <td>iPhone15Pro</td>\n",
       "      <td>...</td>\n",
       "      <td>0.237131</td>\n",
       "      <td>NaN</td>\n",
       "      <td>0</td>\n",
       "      <td>3e1de1f7-aa37-4146-8511-ce80fa9b4a5e</td>\n",
       "      <td>2312</td>\n",
       "      <td>12</td>\n",
       "      <td>02330e6e-e06b-4722-89bb-6392ea6734f4</td>\n",
       "      <td>2024-11-15 05:15:25.016000</td>\n",
       "      <td>v1.10 - Skipits - New Users</td>\n",
       "      <td>Skipits - Middle Prices</td>\n",
       "    </tr>\n",
       "    <tr>\n",
       "      <th>2</th>\n",
       "      <td>US</td>\n",
       "      <td>2024-11-05 06:16:15+00:00</td>\n",
       "      <td>NaN</td>\n",
       "      <td>0</td>\n",
       "      <td>71</td>\n",
       "      <td>12.990000</td>\n",
       "      <td>1</td>\n",
       "      <td>com.android.vending</td>\n",
       "      <td>samsung</td>\n",
       "      <td>SM-S926U</td>\n",
       "      <td>...</td>\n",
       "      <td>0.000000</td>\n",
       "      <td>NaN</td>\n",
       "      <td>8</td>\n",
       "      <td>c42f58c0-d3bc-4eaf-89be-3c23d5bea7b6</td>\n",
       "      <td>4221</td>\n",
       "      <td>85</td>\n",
       "      <td>0240b6c2-3dcb-4104-9146-a49f3f9418ca</td>\n",
       "      <td>2024-11-09 06:53:41.435000</td>\n",
       "      <td>v1.10 - Skipits - Existing Users</td>\n",
       "      <td>Skipits - Middle Prices</td>\n",
       "    </tr>\n",
       "    <tr>\n",
       "      <th>3</th>\n",
       "      <td>IN</td>\n",
       "      <td>2024-09-26 17:49:25+00:00</td>\n",
       "      <td>0.010450</td>\n",
       "      <td>16</td>\n",
       "      <td>74</td>\n",
       "      <td>5.332806</td>\n",
       "      <td>1</td>\n",
       "      <td>com.android.vending</td>\n",
       "      <td>samsung</td>\n",
       "      <td>SM-S918B</td>\n",
       "      <td>...</td>\n",
       "      <td>0.019242</td>\n",
       "      <td>0.008792</td>\n",
       "      <td>1</td>\n",
       "      <td>c780a188-9919-4d56-bb37-f4f0dae06cb6</td>\n",
       "      <td>3573</td>\n",
       "      <td>323</td>\n",
       "      <td>0245fea7-aac4-4430-9b56-3e63507d820c</td>\n",
       "      <td>2024-11-12 17:26:52.479000</td>\n",
       "      <td>v1.10 - Skipits - Existing Users</td>\n",
       "      <td>Skipits - High Prices</td>\n",
       "    </tr>\n",
       "    <tr>\n",
       "      <th>4</th>\n",
       "      <td>US</td>\n",
       "      <td>2024-10-23 17:44:11+00:00</td>\n",
       "      <td>0.054266</td>\n",
       "      <td>1</td>\n",
       "      <td>9</td>\n",
       "      <td>9.990000</td>\n",
       "      <td>1</td>\n",
       "      <td>NaN</td>\n",
       "      <td>Apple</td>\n",
       "      <td>iPhone15Pro</td>\n",
       "      <td>...</td>\n",
       "      <td>0.237337</td>\n",
       "      <td>0.183071</td>\n",
       "      <td>4</td>\n",
       "      <td>2022690b-17e2-4bc4-ae6c-ad396b05b5e6</td>\n",
       "      <td>918</td>\n",
       "      <td>31</td>\n",
       "      <td>02dbff9f-1136-4889-aef5-74ea908bc7d5</td>\n",
       "      <td>2024-11-10 23:38:28.594000</td>\n",
       "      <td>v1.10 - Skipits - Existing Users</td>\n",
       "      <td>Control</td>\n",
       "    </tr>\n",
       "  </tbody>\n",
       "</table>\n",
       "<p>5 rows × 22 columns</p>\n",
       "</div>"
      ],
      "text/plain": [
       "  country     first_app_launch_date  fs_revenue  fs_watched  game_count  \\\n",
       "0      GB 2024-10-14 20:03:02+00:00    0.103475           3          12   \n",
       "1      US 2024-11-15 05:15:18+00:00    0.237131           9          63   \n",
       "2      US 2024-11-05 06:16:15+00:00         NaN           0          71   \n",
       "3      IN 2024-09-26 17:49:25+00:00    0.010450          16          74   \n",
       "4      US 2024-10-23 17:44:11+00:00    0.054266           1           9   \n",
       "\n",
       "   iap_revenue  iap_transactions        install_store manufacturer  \\\n",
       "0     8.758466                 1                  NaN        Apple   \n",
       "1     7.990000                 1                  NaN        Apple   \n",
       "2    12.990000                 1  com.android.vending      samsung   \n",
       "3     5.332806                 1  com.android.vending      samsung   \n",
       "4     9.990000                 1                  NaN        Apple   \n",
       "\n",
       "         model  ... ad_revenue rv_revenue  rv_watched  \\\n",
       "0     iPhone14  ...   0.154790   0.051315           1   \n",
       "1  iPhone15Pro  ...   0.237131        NaN           0   \n",
       "2     SM-S926U  ...   0.000000        NaN           8   \n",
       "3     SM-S918B  ...   0.019242   0.008792           1   \n",
       "4  iPhone15Pro  ...   0.237337   0.183071           4   \n",
       "\n",
       "                             session_id  session_length session_number  \\\n",
       "0  c4ffdee2-af1b-4147-a12e-1be255e10f5a             771            102   \n",
       "1  3e1de1f7-aa37-4146-8511-ce80fa9b4a5e            2312             12   \n",
       "2  c42f58c0-d3bc-4eaf-89be-3c23d5bea7b6            4221             85   \n",
       "3  c780a188-9919-4d56-bb37-f4f0dae06cb6            3573            323   \n",
       "4  2022690b-17e2-4bc4-ae6c-ad396b05b5e6             918             31   \n",
       "\n",
       "                                user_id                 assigned_at  \\\n",
       "0  0133f3a8-ff92-4c16-a029-2e2f4c624de0  2024-11-10 19:28:10.945000   \n",
       "1  02330e6e-e06b-4722-89bb-6392ea6734f4  2024-11-15 05:15:25.016000   \n",
       "2  0240b6c2-3dcb-4104-9146-a49f3f9418ca  2024-11-09 06:53:41.435000   \n",
       "3  0245fea7-aac4-4430-9b56-3e63507d820c  2024-11-12 17:26:52.479000   \n",
       "4  02dbff9f-1136-4889-aef5-74ea908bc7d5  2024-11-10 23:38:28.594000   \n",
       "\n",
       "                       ab_test_name              cohort_name  \n",
       "0  v1.10 - Skipits - Existing Users                  Control  \n",
       "1       v1.10 - Skipits - New Users  Skipits - Middle Prices  \n",
       "2  v1.10 - Skipits - Existing Users  Skipits - Middle Prices  \n",
       "3  v1.10 - Skipits - Existing Users    Skipits - High Prices  \n",
       "4  v1.10 - Skipits - Existing Users                  Control  \n",
       "\n",
       "[5 rows x 22 columns]"
      ]
     },
     "execution_count": 35,
     "metadata": {},
     "output_type": "execute_result"
    }
   ],
   "source": [
    "df.head()"
   ]
  },
  {
   "cell_type": "markdown",
   "metadata": {},
   "source": [
    "## A. Country\n",
    "No real insight here"
   ]
  },
  {
   "cell_type": "code",
   "execution_count": 36,
   "metadata": {},
   "outputs": [
    {
     "data": {
      "text/plain": [
       "US    288608\n",
       "JP    107950\n",
       "DE     45872\n",
       "GB     44347\n",
       "BR     39567\n",
       "       ...  \n",
       "ST         1\n",
       "LR         1\n",
       "SB         1\n",
       "NF         1\n",
       "NR         1\n",
       "Name: country, Length: 229, dtype: int64"
      ]
     },
     "execution_count": 36,
     "metadata": {},
     "output_type": "execute_result"
    }
   ],
   "source": [
    "df[\"country\"].value_counts()"
   ]
  },
  {
   "cell_type": "markdown",
   "metadata": {},
   "source": [
    "## B. first_app_launch_date\n",
    "There are abnormal values at both end, future and past. I'll delete the rows outside of the current date and launching of the game. "
   ]
  },
  {
   "cell_type": "code",
   "execution_count": 37,
   "metadata": {},
   "outputs": [
    {
     "name": "stdout",
     "output_type": "stream",
     "text": [
      "Launching dates ranges from 2001-01-24 19:29:12+00:00 to 2029-01-19 18:22:46+00:00\n"
     ]
    }
   ],
   "source": [
    "print( f\"Launching dates ranges from {df['first_app_launch_date'].min()} to {df['first_app_launch_date'].max()}\")"
   ]
  },
  {
   "cell_type": "code",
   "execution_count": 38,
   "metadata": {},
   "outputs": [
    {
     "name": "stdout",
     "output_type": "stream",
     "text": [
      "the dataframe has 22 columns and 1117651 rows. Deleted 28 rows\n"
     ]
    }
   ],
   "source": [
    "mask = (df['first_app_launch_date'] > '2023-1-1') & (df['first_app_launch_date'] <= '2025-10-5')\n",
    "df = df.loc[mask]\n",
    "df.reset_index(\n",
    "    inplace=True, \n",
    "    drop=True,\n",
    "    )\n",
    "print(f\"the dataframe has {len(df.columns)} columns and {len(df)} rows. Deleted {initial_len - len(df)} rows\")"
   ]
  },
  {
   "cell_type": "markdown",
   "metadata": {},
   "source": [
    "## C. fs_revenue, fs_watched\n",
    "Many null records in revenue, we can't fill them out with linear interpolation so I fill with the median. Since player have revenues even with 0 fs_wached i don't think they should be understood as 0. \n",
    "Currency could be euros or cents, since the highest value is 0.025. I do not know the order of magnitude. "
   ]
  },
  {
   "cell_type": "code",
   "execution_count": 39,
   "metadata": {},
   "outputs": [
    {
     "name": "stdout",
     "output_type": "stream",
     "text": [
      "there are 496018 null records in fs_revenue and 0 null recs in fs_watched\n",
      "8533\n",
      "Pearson correlation: 0.2878\n"
     ]
    }
   ],
   "source": [
    "print(f\"there are {len(df[df['fs_revenue'].isna()])} null records in fs_revenue and {len(df[df['fs_watched'].isna()])} null recs in fs_watched\")\n",
    "\n",
    "# Let's check if the nulls are problematic (ie not replaceble by 0, because fs_watched is not 0 \n",
    "print(sum(df[(df['fs_revenue'].isna()) & (df['fs_watched']>0)]['fs_watched'].value_counts()))\n",
    "# Indeed, few thousands records with a problematic nan \n",
    "\n",
    "# We check if there is a clear linear correlation for backfilling may be \n",
    "filtered_df = df[df['fs_revenue'].notnull()]\n",
    "correlation = filtered_df[['fs_watched', 'fs_revenue']].corr().iloc[0, 1]\n",
    "print(f\"Pearson correlation: {correlation:.4f}\")\n",
    "\n",
    "# There aren't any, we can't delete 496019 null recs we will backfill with the median\n",
    "revenue_medians = df.groupby(\"fs_watched\")[\"fs_revenue\"].median()\n",
    "\n",
    "df[\"fs_revenue\"] = df.apply(\n",
    "    lambda row: revenue_medians[row['fs_watched']] if pd.isna(row['fs_revenue']) and row['fs_watched'] in revenue_medians else 0,    axis=1\n",
    ")"
   ]
  },
  {
   "cell_type": "code",
   "execution_count": 40,
   "metadata": {},
   "outputs": [
    {
     "name": "stdout",
     "output_type": "stream",
     "text": [
      "there are now 0 null records in fs_revenue and 0 null recs in fs_watched\n",
      "the minimal value is 0.0, which is coherent. Max is 0.0251592611121563\n"
     ]
    }
   ],
   "source": [
    "print(f\"there are now {len(df[df['fs_revenue'].isna()])} null records in fs_revenue and {len(df[df['fs_watched'].isna()])} null recs in fs_watched\")\n",
    "print(f\"the minimal value is {df['fs_revenue'].min()}, which is coherent. Max is {df['fs_revenue'].max()}\")"
   ]
  },
  {
   "cell_type": "markdown",
   "metadata": {},
   "source": [
    "## D. game_count\n",
    "No real insights here. The distribution is slightly unexpected, with first 0 and then 15 instead of 1. Could be the number of games played for a session."
   ]
  },
  {
   "cell_type": "code",
   "execution_count": 41,
   "metadata": {},
   "outputs": [
    {
     "name": "stdout",
     "output_type": "stream",
     "text": [
      "there are 0 null records\n",
      "0      131585\n",
      "15      65026\n",
      "1       48115\n",
      "2       36504\n",
      "16      34147\n",
      "        ...  \n",
      "400         1\n",
      "544         1\n",
      "867         1\n",
      "535         1\n",
      "821         1\n",
      "Name: game_count, Length: 584, dtype: int64\n"
     ]
    }
   ],
   "source": [
    "df[df[\"game_count\"].isna()]\n",
    "print(f\"there are {len(df[df['game_count'].isna()])} null records\")\n",
    "print(df[\"game_count\"].value_counts())"
   ]
  },
  {
   "cell_type": "markdown",
   "metadata": {},
   "source": [
    "## E. iap_revenue, iap_transactions\n",
    "There are no missing values and the miinimum value is coherent. the amount seem fairly high, could be in cents but we will keep it that way for now. "
   ]
  },
  {
   "cell_type": "code",
   "execution_count": 42,
   "metadata": {},
   "outputs": [
    {
     "name": "stdout",
     "output_type": "stream",
     "text": [
      "there are 0 null records in iap_revenue and 0 null recs in iap_transactions\n",
      "the minimal value is 0.0, which is coherent. Max is 407.95\n"
     ]
    }
   ],
   "source": [
    "print(f\"there are {len(df[df['iap_revenue'].isna()])} null records in iap_revenue and {len(df[df['iap_transactions'].isna()])} null recs in iap_transactions\")\n",
    "print(f\"the minimal value is {df['iap_revenue'].min()}, which is coherent. Max is {df['iap_revenue'].max()}\")"
   ]
  },
  {
   "cell_type": "markdown",
   "metadata": {},
   "source": [
    "## F.ad_revenue \n",
    "no nulls, no really incoherent value as it is a contineum. "
   ]
  },
  {
   "cell_type": "code",
   "execution_count": 43,
   "metadata": {},
   "outputs": [
    {
     "name": "stdout",
     "output_type": "stream",
     "text": [
      "there are 0 null records in ad_revenue \n",
      "the minimal value is 0.0, which is coherent. Max is 78.76273159348477\n"
     ]
    }
   ],
   "source": [
    "print(f\"there are {len(df[df['ad_revenue'].isna()])} null records in ad_revenue \")\n",
    "print(f\"the minimal value is {df['ad_revenue'].min()}, which is coherent. Max is {df['ad_revenue'].max()}\")"
   ]
  },
  {
   "cell_type": "code",
   "execution_count": 44,
   "metadata": {},
   "outputs": [
    {
     "data": {
      "image/png": "[encoded data removed]",
      "text/plain": [
       "<Figure size 720x432 with 1 Axes>"
      ]
     },
     "metadata": {
      "needs_background": "light"
     },
     "output_type": "display_data"
    }
   ],
   "source": [
    "import matplotlib.pyplot as plt\n",
    "\n",
    "# Checking if the log distrib seems logical\n",
    "rounded_ad_revenue = round(df['ad_revenue'] / 10) * 10\n",
    "\n",
    "plt.figure(figsize=(10, 6))\n",
    "plt.hist(\n",
    "    rounded_ad_revenue,\n",
    "    bins=[0, 10, 20, 30, 40, 50, 60, 70, 80],\n",
    "    color='skyblue',\n",
    "    edgecolor='black'\n",
    ")\n",
    "\n",
    "# Set log scale on y-axis\n",
    "plt.yscale('log')\n",
    "\n",
    "# Titles and labels\n",
    "plt.title('Distribution of Rounded Ad Revenue (Log Scale)', fontsize=16)\n",
    "plt.xlabel('Ad Revenue (Rounded to Nearest 10)', fontsize=12)\n",
    "plt.ylabel('Log-Scaled User Count', fontsize=12)\n",
    "\n",
    "# Remove grid for clean look\n",
    "plt.grid(False)\n",
    "\n",
    "plt.tight_layout()\n",
    "plt.show()\n",
    "\n",
    "# indeed\n"
   ]
  },
  {
   "cell_type": "markdown",
   "metadata": {},
   "source": [
    "## G. rv_revenue, rv_watched \n",
    "Noticing the both maximums are the same between ad and rv revenues, we dig deeper. The RV revenue is always below the ad revenue. I believe it is contained in it, meaning ad revenue is the sum of pop up ads and RV ads. We will not use the rv attributes, to avoid duplicity. "
   ]
  },
  {
   "cell_type": "code",
   "execution_count": 45,
   "metadata": {},
   "outputs": [
    {
     "name": "stdout",
     "output_type": "stream",
     "text": [
      "there are 530809 null records in rv_revenue and 0 null recs in rv_watched\n",
      "the minimal value is 0.0, which is coherent. Max is 78.76273159348477\n",
      "False    410915\n",
      "True     175927\n",
      "Name: cd_eq, dtype: int64\n",
      "True    586842\n",
      "Name: cd_below, dtype: int64\n"
     ]
    },
    {
     "name": "stderr",
     "output_type": "stream",
     "text": [
      "C:\\Users\\loulo\\AppData\\Local\\Temp\\ipykernel_29576\\2299510969.py:7: SettingWithCopyWarning: \n",
      "A value is trying to be set on a copy of a slice from a DataFrame.\n",
      "Try using .loc[row_indexer,col_indexer] = value instead\n",
      "\n",
      "See the caveats in the documentation: https://pandas.pydata.org/pandas-docs/stable/user_guide/indexing.html#returning-a-view-versus-a-copy\n",
      "  df_filtered[\"cd_eq\"] = (df_filtered[\"rv_revenue\"] == df_filtered[\"ad_revenue\"])\n",
      "C:\\Users\\loulo\\AppData\\Local\\Temp\\ipykernel_29576\\2299510969.py:8: SettingWithCopyWarning: \n",
      "A value is trying to be set on a copy of a slice from a DataFrame.\n",
      "Try using .loc[row_indexer,col_indexer] = value instead\n",
      "\n",
      "See the caveats in the documentation: https://pandas.pydata.org/pandas-docs/stable/user_guide/indexing.html#returning-a-view-versus-a-copy\n",
      "  df_filtered[\"cd_below\"] = (df_filtered[\"rv_revenue\"] <= df_filtered[\"ad_revenue\"])\n"
     ]
    }
   ],
   "source": [
    "print(f\"there are {len(df[df['rv_revenue'].isna()])} null records in rv_revenue and {len(df[df['rv_watched'].isna()])} null recs in rv_watched\")\n",
    "print(f\"the minimal value is {df['rv_revenue'].min()}, which is coherent. Max is {df['rv_revenue'].max()}\")\n",
    "\n",
    "# The maximum is the exact same value as before, we will check that the revenue columnis not a duplicate of the ad column \n",
    "mask = df['rv_revenue'].notnull()\n",
    "df_filtered = df.loc[mask]\n",
    "df_filtered[\"cd_eq\"] = (df_filtered[\"rv_revenue\"] == df_filtered[\"ad_revenue\"])\n",
    "df_filtered[\"cd_below\"] = (df_filtered[\"rv_revenue\"] <= df_filtered[\"ad_revenue\"])\n",
    "result = df_filtered[\"cd_eq\"].value_counts()\n",
    "print(result)\n",
    "result_2 = df_filtered[\"cd_below\"].value_counts()\n",
    "print(result_2)\n",
    "# They are different columns. \n",
    "\n"
   ]
  },
  {
   "cell_type": "markdown",
   "metadata": {},
   "source": [
    "## H. session_number\n",
    "We are noticing that some sessions aree missing, since in the graph is not perfectly decresing. It might be because of very short sessions, or because there are missing data. "
   ]
  },
  {
   "cell_type": "code",
   "execution_count": 46,
   "metadata": {},
   "outputs": [
    {
     "data": {
      "image/png": "[encoded data removed]",
      "text/plain": [
       "<Figure size 864x432 with 1 Axes>"
      ]
     },
     "metadata": {
      "needs_background": "light"
     },
     "output_type": "display_data"
    }
   ],
   "source": [
    "df['session_number'].value_counts().sort_index().head(50).plot(\n",
    "    kind='bar',\n",
    "    figsize=(12, 6),\n",
    "    color='skyblue',\n",
    "    edgecolor='black',\n",
    "    title='Distribution of Session Numbers (First 50)'\n",
    ")\n",
    "plt.xlabel('Session Number')\n",
    "plt.ylabel('Number of Users')\n",
    "plt.tight_layout()\n",
    "plt.show()\n",
    "\n"
   ]
  },
  {
   "cell_type": "markdown",
   "metadata": {},
   "source": [
    "## I. user_id\n",
    "There are no missing or misformatted user_id"
   ]
  },
  {
   "cell_type": "code",
   "execution_count": 47,
   "metadata": {},
   "outputs": [
    {
     "name": "stdout",
     "output_type": "stream",
     "text": [
      "there are 0 null records in user_id, and 533833 distinct users out of 1117651 records\n"
     ]
    }
   ],
   "source": [
    "print(f\"there are {len(df[df['user_id'].isna()])} null records in user_id, and {len(df['user_id'].value_counts())} distinct users out of {len(df)} records\")\n"
   ]
  },
  {
   "cell_type": "code",
   "execution_count": 48,
   "metadata": {},
   "outputs": [
    {
     "name": "stdout",
     "output_type": "stream",
     "text": [
      "Empty DataFrame\n",
      "Columns: [country, first_app_launch_date, fs_revenue, fs_watched, game_count, iap_revenue, iap_transactions, install_store, manufacturer, model, open_at, platform, ad_revenue, rv_revenue, rv_watched, session_id, session_length, session_number, user_id, assigned_at, ab_test_name, cohort_name, is_valid_uuid]\n",
      "Index: []\n",
      "\n",
      "[0 rows x 23 columns]\n"
     ]
    }
   ],
   "source": [
    "# We check if all users have valid uuid,  to clean out testers for instance which could have a different format\n",
    "uuid_pattern = r'^[0-9a-fA-F]{8}-[0-9a-fA-F]{4}-[1-5][0-9a-fA-F]{3}-[89abAB][0-9a-fA-F]{3}-[0-9a-fA-F]{12}$'\n",
    "df_uuid =  df.copy()\n",
    "df_uuid['is_valid_uuid'] = df['user_id'].apply(lambda x: bool(re.match(uuid_pattern, str(x))))\n",
    "invalid_uuids = df_uuid[~df_uuid['is_valid_uuid']]\n",
    "\n",
    "# all users have valid uuid \n",
    "print(invalid_uuids)"
   ]
  },
  {
   "cell_type": "markdown",
   "metadata": {},
   "source": [
    "## J. ab_test_name, cohort_name\n",
    "There are 2 AB test running, on existing users and new users. "
   ]
  },
  {
   "cell_type": "code",
   "execution_count": 50,
   "metadata": {},
   "outputs": [
    {
     "name": "stdout",
     "output_type": "stream",
     "text": [
      "there are 0 null records in ab_test_name, and 2 distinct possibiliies like v1.10 - Skipits - Existing Users    643617\n",
      "v1.10 - Skipits - New Users         474034\n",
      "Name: ab_test_name, dtype: int64 \n",
      "there are 0 null records in cohort_name, and 3 distinct possibiliies like Control                    374663\n",
      "Skipits - High Prices      372300\n",
      "Skipits - Middle Prices    370688\n",
      "Name: cohort_name, dtype: int64 \n"
     ]
    }
   ],
   "source": [
    "print(f\"there are {len(df[df['ab_test_name'].isna()])} null records in ab_test_name, and {len(df['ab_test_name'].value_counts())} distinct possibiliies like {df['ab_test_name'].value_counts()} \")\n",
    "print(f\"there are {len(df[df['cohort_name'].isna()])} null records in cohort_name, and {len(df['cohort_name'].value_counts())} distinct possibiliies like {df['cohort_name'].value_counts()} \")"
   ]
  },
  {
   "cell_type": "markdown",
   "metadata": {},
   "source": [
    "### i. Existing users "
   ]
  },
  {
   "cell_type": "code",
   "execution_count": 52,
   "metadata": {},
   "outputs": [
    {
     "data": {
      "text/plain": [
       "Skipits - High Prices      214807\n",
       "Control                    214603\n",
       "Skipits - Middle Prices    214207\n",
       "Name: cohort_name, dtype: int64"
      ]
     },
     "execution_count": 52,
     "metadata": {},
     "output_type": "execute_result"
    }
   ],
   "source": [
    "df[df[\"ab_test_name\"]==\"v1.10 - Skipits - Existing Users\"]['cohort_name'].value_counts()"
   ]
  },
  {
   "cell_type": "code",
   "execution_count": null,
   "metadata": {},
   "outputs": [],
   "source": []
  },
  {
   "cell_type": "markdown",
   "metadata": {},
   "source": [
    "### ii. New users"
   ]
  },
  {
   "cell_type": "code",
   "execution_count": 53,
   "metadata": {},
   "outputs": [
    {
     "data": {
      "text/plain": [
       "Control                    160060\n",
       "Skipits - High Prices      157493\n",
       "Skipits - Middle Prices    156481\n",
       "Name: cohort_name, dtype: int64"
      ]
     },
     "execution_count": 53,
     "metadata": {},
     "output_type": "execute_result"
    }
   ],
   "source": [
    "df[df[\"ab_test_name\"]==\"v1.10 - Skipits - New Users\"]['cohort_name'].value_counts()"
   ]
  }
 ],
 "metadata": {
  "kernelspec": {
   "display_name": "Python 3.9.12 ('base')",
   "language": "python",
   "name": "python3"
  },
  "language_info": {
   "codemirror_mode": {
    "name": "ipython",
    "version": 3
   },
   "file_extension": ".py",
   "mimetype": "text/x-python",
   "name": "python",
   "nbconvert_exporter": "python",
   "pygments_lexer": "ipython3",
   "version": "3.9.12"
  },
  "orig_nbformat": 4,
  "vscode": {
   "interpreter": {
    "hash": "174c9b7f671336d0b03fb6a4f6fd2215b1a4f0beaa17119d68f2e3366192539c"
   }
  }
 },
 "nbformat": 4,
 "nbformat_minor": 2
}
